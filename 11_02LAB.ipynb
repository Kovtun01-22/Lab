{
  "nbformat": 4,
  "nbformat_minor": 0,
  "metadata": {
    "colab": {
      "provenance": [],
      "authorship_tag": "ABX9TyNse1vWckIgfAhcX9bwo/p8",
      "include_colab_link": true
    },
    "kernelspec": {
      "name": "python3",
      "display_name": "Python 3"
    },
    "language_info": {
      "name": "python"
    }
  },
  "cells": [
    {
      "cell_type": "markdown",
      "metadata": {
        "id": "view-in-github",
        "colab_type": "text"
      },
      "source": [
        "<a href=\"https://colab.research.google.com/github/Kovtun01-22/Lab/blob/main/11_02LAB.ipynb\" target=\"_parent\"><img src=\"https://colab.research.google.com/assets/colab-badge.svg\" alt=\"Open In Colab\"/></a>"
      ]
    },
    {
      "cell_type": "markdown",
      "source": [
        "Условные операторы "
      ],
      "metadata": {
        "id": "oYRzzEa-dCMf"
      }
    },
    {
      "cell_type": "code",
      "execution_count": 9,
      "metadata": {
        "colab": {
          "base_uri": "https://localhost:8080/"
        },
        "id": "6o4CmIgycdIs",
        "outputId": "11f7f80e-41ff-404f-d498-e24ab463ce2f"
      },
      "outputs": [
        {
          "output_type": "stream",
          "name": "stdout",
          "text": [
            "Введите число:4\n",
            "положительное число\n",
            "finished\n"
          ]
        }
      ],
      "source": [
        "num=input('Введите число:')\n",
        "if int (num) > 0:\n",
        " print('положительное число')\n",
        "elif int (num) == 0:\n",
        " print('это 0')\n",
        "else:\n",
        "  print('отрицательное число')\n",
        "print('finished')"
      ]
    },
    {
      "cell_type": "code",
      "source": [
        "pip install CoolProp\n",
        "\n",
        "\n"
      ],
      "metadata": {
        "colab": {
          "base_uri": "https://localhost:8080/"
        },
        "id": "vU_EB7C1fUqi",
        "outputId": "f19f242a-e68b-4905-80b9-b267af55b1e9"
      },
      "execution_count": 10,
      "outputs": [
        {
          "output_type": "stream",
          "name": "stdout",
          "text": [
            "Looking in indexes: https://pypi.org/simple, https://us-python.pkg.dev/colab-wheels/public/simple/\n",
            "Collecting Coolprop\n",
            "  Downloading CoolProp-6.4.3.post1-cp310-cp310-manylinux_2_17_x86_64.manylinux2014_x86_64.whl (6.1 MB)\n",
            "\u001b[2K     \u001b[90m━━━━━━━━━━━━━━━━━━━━━━━━━━━━━━━━━━━━━━━━\u001b[0m \u001b[32m6.1/6.1 MB\u001b[0m \u001b[31m36.5 MB/s\u001b[0m eta \u001b[36m0:00:00\u001b[0m\n",
            "\u001b[?25hInstalling collected packages: Coolprop\n",
            "Successfully installed Coolprop-6.4.3.post1\n"
          ]
        }
      ]
    },
    {
      "cell_type": "markdown",
      "source": [
        "Расчет потери напора и давления в горизантальном трубопроводе "
      ],
      "metadata": {
        "id": "6oRscZrShq69"
      }
    },
    {
      "cell_type": "code",
      "source": [
        "import CoolProp.CoolProp as ct\n",
        "import numpy as np\n",
        "q=700000 # расход кг/ч\n",
        "d=300 # диаметр трубы мм\n",
        "L=500 # длина м\n",
        "Δ=2 # относительная шероховатость мм/м\n",
        "p=300000 # давление входа Паскаль\n",
        "T=353.15 # температура градусы Кельвина\n",
        "Fluid_name='Water'# название жидкости\n",
        "r=ct.PropsSI('D','P',p,'T',T,Fluid_name)\n",
        "print('Плотность равна=',r,'кг/м^3')\n",
        "Q=q/r\n",
        "print('Объемный расход равен =',Q,'метров кубических в час')\n",
        "F=np.pi*(d/2)**2\n",
        "print('Площадь сечения трубы равна=',F,'миллиметров квадратных')\n",
        "V=Q/F*1000\n",
        "print('Скорость расхода=',V,'скорость расхода км в ч')\n",
        "w=ct.PropsSI('viscosity','P',p,'T',T,Fluid_name)*1000\n",
        "print('Вязкость воды равна=',w,'Н*мм/(м/c*м^2)')\n",
        "Re=(d*V)/(w/r)/3.6\n",
        "print(Re)\n"
      ],
      "metadata": {
        "colab": {
          "base_uri": "https://localhost:8080/"
        },
        "id": "ilrPp1q-hgQ4",
        "outputId": "0f7865ab-5f82-4c0d-c287-87277809ab2c"
      },
      "execution_count": 12,
      "outputs": [
        {
          "output_type": "stream",
          "name": "stdout",
          "text": [
            "Плотность равна= 971.8794765337273 кг/м^3\n",
            "Объемный расход равен = 720.2539171797274 метров кубических в час\n",
            "Площадь сечения трубы равна= 70685.83470577035 миллиметров квадратных\n",
            "Скорость расхода= 10.189508551151485 скорость расхода км в ч\n",
            "Вязкость воды равна= 0.35410406755312757 Н*мм/(м/c*м^2)\n",
            "2330523.506187265\n"
          ]
        }
      ]
    }
  ]
}